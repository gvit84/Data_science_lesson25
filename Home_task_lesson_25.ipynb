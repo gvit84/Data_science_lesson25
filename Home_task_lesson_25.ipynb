{
 "cells": [
  {
   "cell_type": "code",
   "execution_count": 9,
   "id": "de76960d",
   "metadata": {},
   "outputs": [],
   "source": [
    "import pandas as pd"
   ]
  },
  {
   "cell_type": "markdown",
   "id": "d599e631",
   "metadata": {},
   "source": [
    "**Task_1**"
   ]
  },
  {
   "cell_type": "markdown",
   "id": "40fa659f",
   "metadata": {},
   "source": [
    "Оскільки ймовірність того, що при перевірці деталь виявиться стандартною дорівнює 0.6, то відповідно ймовірність того, що деталь виявиться бракованою дорівнюватиме 0.4.\n",
    "Розглянемо варіанти ймовірностей, що можуть бути в результаті перевірки 3-ох деталей:\n",
    "1. Всі деталі стандартні P = 0.6 * 0.6 * 0.6 = 0.216\n",
    "2. Всі деталі браковані P = 0.4 + 0.4 + 0.4 = 0.064\n",
    "3. Дві деталі браковані і одна стандартна P = 0.4 * 0.4 * 0.6 = 0.096 * 3 (варіації) = 0,288\n",
    "4. Одна деталь бракована і 2 стандартні P = 0.4 * 0.6 * 0.6 = 0.144 * 3 (варіації) = 0,432"
   ]
  },
  {
   "cell_type": "markdown",
   "id": "cafbdb78",
   "metadata": {},
   "source": [
    "**Закон розподілу системи двох дискретних випадкових величин X - появи числа бракованих деталей і Y - появи числа стандартних деталей:**"
   ]
  },
  {
   "cell_type": "code",
   "execution_count": 163,
   "id": "47648cbe",
   "metadata": {},
   "outputs": [],
   "source": [
    "tabledata = [[\"\", \"\", \"\", \"\", \"\", \"\"],\n",
    "             [\"\", 0, 0, 0, 0.064, 0.064],\n",
    "             [\"\", 0, 0, 0.288, 0, 0.288],\n",
    "             [\"\", 0, 0.432, 0, 0, 0.432],\n",
    "             [\"\", 0.216, 0, 0, 0, 0.216],\n",
    "             [\"\", 0.216, 0.432, 0.288, 0.064, 1]]"
   ]
  },
  {
   "cell_type": "code",
   "execution_count": 164,
   "id": "8d3d7756",
   "metadata": {},
   "outputs": [
    {
     "data": {
      "text/html": [
       "<div>\n",
       "<style scoped>\n",
       "    .dataframe tbody tr th:only-of-type {\n",
       "        vertical-align: middle;\n",
       "    }\n",
       "\n",
       "    .dataframe tbody tr th {\n",
       "        vertical-align: top;\n",
       "    }\n",
       "\n",
       "    .dataframe thead th {\n",
       "        text-align: right;\n",
       "    }\n",
       "</style>\n",
       "<table border=\"1\" class=\"dataframe\">\n",
       "  <thead>\n",
       "    <tr style=\"text-align: right;\">\n",
       "      <th></th>\n",
       "      <th>X</th>\n",
       "      <th>0</th>\n",
       "      <th>1</th>\n",
       "      <th>2</th>\n",
       "      <th>3</th>\n",
       "      <th>P(y)</th>\n",
       "    </tr>\n",
       "  </thead>\n",
       "  <tbody>\n",
       "    <tr>\n",
       "      <th>Y</th>\n",
       "      <td></td>\n",
       "      <td></td>\n",
       "      <td></td>\n",
       "      <td></td>\n",
       "      <td></td>\n",
       "      <td></td>\n",
       "    </tr>\n",
       "    <tr>\n",
       "      <th>0</th>\n",
       "      <td></td>\n",
       "      <td>0</td>\n",
       "      <td>0</td>\n",
       "      <td>0</td>\n",
       "      <td>0.064</td>\n",
       "      <td>0.064</td>\n",
       "    </tr>\n",
       "    <tr>\n",
       "      <th>1</th>\n",
       "      <td></td>\n",
       "      <td>0</td>\n",
       "      <td>0</td>\n",
       "      <td>0.288</td>\n",
       "      <td>0</td>\n",
       "      <td>0.288</td>\n",
       "    </tr>\n",
       "    <tr>\n",
       "      <th>2</th>\n",
       "      <td></td>\n",
       "      <td>0</td>\n",
       "      <td>0.432</td>\n",
       "      <td>0</td>\n",
       "      <td>0</td>\n",
       "      <td>0.432</td>\n",
       "    </tr>\n",
       "    <tr>\n",
       "      <th>3</th>\n",
       "      <td></td>\n",
       "      <td>0.216</td>\n",
       "      <td>0</td>\n",
       "      <td>0</td>\n",
       "      <td>0</td>\n",
       "      <td>0.216</td>\n",
       "    </tr>\n",
       "    <tr>\n",
       "      <th>P(x)</th>\n",
       "      <td></td>\n",
       "      <td>0.216</td>\n",
       "      <td>0.432</td>\n",
       "      <td>0.288</td>\n",
       "      <td>0.064</td>\n",
       "      <td>1</td>\n",
       "    </tr>\n",
       "  </tbody>\n",
       "</table>\n",
       "</div>"
      ],
      "text/plain": [
       "     X      0      1      2      3   P(y)\n",
       "Y                                        \n",
       "0           0      0      0  0.064  0.064\n",
       "1           0      0  0.288      0  0.288\n",
       "2           0  0.432      0      0  0.432\n",
       "3       0.216      0      0      0  0.216\n",
       "P(x)    0.216  0.432  0.288  0.064      1"
      ]
     },
     "execution_count": 164,
     "metadata": {},
     "output_type": "execute_result"
    }
   ],
   "source": [
    "pd.DataFrame(tabledata, \n",
    "             index=[\"Y\", 0, 1, 2, 3, \"P(x)\"],\n",
    "             columns=[\"X\", 0, 1, 2, 3, \"P(y)\"])\n"
   ]
  },
  {
   "cell_type": "markdown",
   "id": "f195ff08",
   "metadata": {},
   "source": [
    "Для обчислення коефіцієнту кореляції $r_{xy}$ необхідно знайти математичне сподівання, дисперсію, середнє квадратичне відхилення величин X та Y, а також коваріацію cov(X,Y)."
   ]
  },
  {
   "cell_type": "markdown",
   "id": "7ad4fec7",
   "metadata": {},
   "source": [
    "**Знайдемо вищезазначені величини:**\n",
    "\n",
    "M(X) = 0 * 0.216 + 1 * 0.432 + 2 * 0.288 + 3 * 0.064 = 1.2"
   ]
  },
  {
   "cell_type": "code",
   "execution_count": 170,
   "id": "9e1ed2e9",
   "metadata": {},
   "outputs": [
    {
     "data": {
      "text/plain": [
       "1.2"
      ]
     },
     "execution_count": 170,
     "metadata": {},
     "output_type": "execute_result"
    }
   ],
   "source": [
    "0 * 0.216 + 1 * 0.432 + 2 * 0.288 + 3 * 0.064"
   ]
  },
  {
   "cell_type": "markdown",
   "id": "04afcce0",
   "metadata": {},
   "source": [
    "$M(X^2) = 0^2 * 0.216 + 1^2 * 0.432 + 2^2 * 0.288 + 3^2 * 0.064 = 2.16$ "
   ]
  },
  {
   "cell_type": "code",
   "execution_count": 169,
   "id": "77734d0b",
   "metadata": {},
   "outputs": [
    {
     "data": {
      "text/plain": [
       "2.16"
      ]
     },
     "execution_count": 169,
     "metadata": {},
     "output_type": "execute_result"
    }
   ],
   "source": [
    "0 ** 2 * 0.216 + 1 ** 2 * 0.432 + 2 ** 2 * 0.288 + 3 ** 2 * 0.064"
   ]
  },
  {
   "cell_type": "markdown",
   "id": "ee261865",
   "metadata": {},
   "source": [
    "$D(X) = M(X^2) - (M(X))^2 = 2.16 - 1.2^2 = 2.16 - 1.44 = 0.72$"
   ]
  },
  {
   "cell_type": "code",
   "execution_count": 171,
   "id": "c1901305",
   "metadata": {},
   "outputs": [
    {
     "data": {
      "text/plain": [
       "0.7200000000000002"
      ]
     },
     "execution_count": 171,
     "metadata": {},
     "output_type": "execute_result"
    }
   ],
   "source": [
    "2.16 - 1.2 ** 2"
   ]
  },
  {
   "cell_type": "markdown",
   "id": "e32ea4e3",
   "metadata": {},
   "source": [
    "$σ_x = \\sqrt {D(X)} = \\sqrt0.72 = 0.85$\n"
   ]
  },
  {
   "cell_type": "code",
   "execution_count": 172,
   "id": "ff2d8e1d",
   "metadata": {},
   "outputs": [
    {
     "data": {
      "text/plain": [
       "0.848528137423857"
      ]
     },
     "execution_count": 172,
     "metadata": {},
     "output_type": "execute_result"
    }
   ],
   "source": [
    "0.72 ** 0.5"
   ]
  },
  {
   "cell_type": "markdown",
   "id": "30d04c1f",
   "metadata": {},
   "source": [
    "M(Y) = 0 * 0.064 + 1 * 0.288 + 2 * 0.432 + 3 * 0.216 = 1.8"
   ]
  },
  {
   "cell_type": "code",
   "execution_count": 173,
   "id": "d9cf8a15",
   "metadata": {},
   "outputs": [
    {
     "data": {
      "text/plain": [
       "1.7999999999999998"
      ]
     },
     "execution_count": 173,
     "metadata": {},
     "output_type": "execute_result"
    }
   ],
   "source": [
    "0 * 0.064 + 1 * 0.288 + 2 * 0.432 + 3 * 0.216"
   ]
  },
  {
   "cell_type": "markdown",
   "id": "531fe77c",
   "metadata": {},
   "source": [
    "$M(Y^2) = 0^2 * 0.064 + 1^2 * 0.288 + 2^2 * 0.432 + 3^2 * 0.216 = 3.96$ "
   ]
  },
  {
   "cell_type": "code",
   "execution_count": 180,
   "id": "781cea82",
   "metadata": {},
   "outputs": [
    {
     "data": {
      "text/plain": [
       "3.96"
      ]
     },
     "execution_count": 180,
     "metadata": {},
     "output_type": "execute_result"
    }
   ],
   "source": [
    "0 ** 2 * 0.064 + 1 ** 2 * 0.288 + 2 ** 2 * 0.432 + 3 ** 2 * 0.216"
   ]
  },
  {
   "cell_type": "markdown",
   "id": "1b094fa3",
   "metadata": {},
   "source": [
    "$D(Y) = M(Y^2) - (M(Y))^2 = 3.96 - 3.24 = 0.72$"
   ]
  },
  {
   "cell_type": "code",
   "execution_count": 181,
   "id": "45275654",
   "metadata": {},
   "outputs": [
    {
     "data": {
      "text/plain": [
       "0.7199999999999998"
      ]
     },
     "execution_count": 181,
     "metadata": {},
     "output_type": "execute_result"
    }
   ],
   "source": [
    "3.96 - 1.8 ** 2"
   ]
  },
  {
   "cell_type": "markdown",
   "id": "c2f2b236",
   "metadata": {},
   "source": [
    "$σ_y = \\sqrt {D(Y)} = \\sqrt0.72 = 0.85$"
   ]
  },
  {
   "cell_type": "code",
   "execution_count": 174,
   "id": "87889889",
   "metadata": {},
   "outputs": [
    {
     "data": {
      "text/plain": [
       "0.848528137423857"
      ]
     },
     "execution_count": 174,
     "metadata": {},
     "output_type": "execute_result"
    }
   ],
   "source": [
    "0.72 ** 0.5"
   ]
  },
  {
   "cell_type": "markdown",
   "id": "4f6bdf61",
   "metadata": {},
   "source": [
    "M(XY) = 2 * 1 * 0.288 + 1 * 2 * 0.432 = 1.44"
   ]
  },
  {
   "cell_type": "code",
   "execution_count": 175,
   "id": "8b49325e",
   "metadata": {},
   "outputs": [
    {
     "data": {
      "text/plain": [
       "1.44"
      ]
     },
     "execution_count": 175,
     "metadata": {},
     "output_type": "execute_result"
    }
   ],
   "source": [
    "2 * 1 * 0.288 + 1 * 2 * 0.432"
   ]
  },
  {
   "cell_type": "markdown",
   "id": "ad6e4ac8",
   "metadata": {},
   "source": [
    "cov(X,Y) = M(XY) - M(X)M(Y) = 1.44 - 1.2 * 1.8 = -0.72"
   ]
  },
  {
   "cell_type": "code",
   "execution_count": 182,
   "id": "04846d9c",
   "metadata": {},
   "outputs": [
    {
     "data": {
      "text/plain": [
       "-0.7200000000000002"
      ]
     },
     "execution_count": 182,
     "metadata": {},
     "output_type": "execute_result"
    }
   ],
   "source": [
    "1.44 - 1.2 * 1.8"
   ]
  },
  {
   "cell_type": "markdown",
   "id": "cccf1317",
   "metadata": {},
   "source": [
    "**Знайдемо коефіцієнт кореляції:**"
   ]
  },
  {
   "cell_type": "markdown",
   "id": "25206aac",
   "metadata": {},
   "source": [
    "$r_{xy} = cov(X,Y) / σ_x σ_y$ = -0.72 / (0.85 * 0.85) = -1.00"
   ]
  },
  {
   "cell_type": "code",
   "execution_count": 179,
   "id": "68564a29",
   "metadata": {},
   "outputs": [
    {
     "data": {
      "text/plain": [
       "-0.9965397923875433"
      ]
     },
     "execution_count": 179,
     "metadata": {},
     "output_type": "execute_result"
    }
   ],
   "source": [
    "-0.72 / (0.85 * 0.85)"
   ]
  },
  {
   "cell_type": "code",
   "execution_count": null,
   "id": "591eeb35",
   "metadata": {},
   "outputs": [],
   "source": []
  },
  {
   "cell_type": "markdown",
   "id": "ffa216d2",
   "metadata": {},
   "source": [
    "**Task_2**"
   ]
  },
  {
   "cell_type": "markdown",
   "id": "a2df27e8",
   "metadata": {},
   "source": [
    "*2.1 Обчислити очікувану норму прибутку по кожній з акцій*"
   ]
  },
  {
   "cell_type": "markdown",
   "id": "8ece313f",
   "metadata": {},
   "source": [
    "M(X) = 10 * 0.1 + 5 * 0.3 + 2 * 0.2 + 1 * 0.3 + (-5 * 0.1) = 2.7"
   ]
  },
  {
   "cell_type": "code",
   "execution_count": 185,
   "id": "c3c5b73f",
   "metadata": {},
   "outputs": [
    {
     "data": {
      "text/plain": [
       "2.6999999999999997"
      ]
     },
     "execution_count": 185,
     "metadata": {},
     "output_type": "execute_result"
    }
   ],
   "source": [
    "10 * 0.1 + 5 * 0.3 + 2 * 0.2 + 1 * 0.3 + (-5 * 0.1) "
   ]
  },
  {
   "cell_type": "markdown",
   "id": "2f0e9d72",
   "metadata": {},
   "source": [
    "M(Y) = 20 * 0.1 + 10 * 0.3 + 2 * 0.2 + (-2 * 0.3) + (-8 * 0.1) = 4"
   ]
  },
  {
   "cell_type": "code",
   "execution_count": 186,
   "id": "fde1d35f",
   "metadata": {},
   "outputs": [
    {
     "data": {
      "text/plain": [
       "4.000000000000001"
      ]
     },
     "execution_count": 186,
     "metadata": {},
     "output_type": "execute_result"
    }
   ],
   "source": [
    "20 * 0.1 + 10 * 0.3 + 2 * 0.2 + (-2 * 0.3) + (-8 * 0.1)"
   ]
  },
  {
   "cell_type": "markdown",
   "id": "53f5a60b",
   "metadata": {},
   "source": [
    "*2.2 оцінити степінь ризику обох акцій за допомогою середньоквадратичного відхилення*"
   ]
  },
  {
   "cell_type": "markdown",
   "id": "bc2530ec",
   "metadata": {},
   "source": [
    "$M(X^2) = 10^2 * 0.1 + 5^2 * 0.3 + 2^2 * 0.2 + 1^2 * 0.3 + (-5^2 * 0.1) = 21.1$ "
   ]
  },
  {
   "cell_type": "code",
   "execution_count": 190,
   "id": "753d319e",
   "metadata": {},
   "outputs": [
    {
     "data": {
      "text/plain": [
       "21.1"
      ]
     },
     "execution_count": 190,
     "metadata": {},
     "output_type": "execute_result"
    }
   ],
   "source": [
    "10 ** 2 * 0.1 + 5 ** 2 * 0.3 + 2 ** 2 * 0.2 + 1 ** 2 * 0.3 + ((-5) ** 2 * 0.1)"
   ]
  },
  {
   "cell_type": "markdown",
   "id": "1aaa824d",
   "metadata": {},
   "source": [
    "$D(X) = M(X^2) - (M(X))^2 = 21.1 - 2.7^2 = 21.7 - 7.29 = 14.41$"
   ]
  },
  {
   "cell_type": "markdown",
   "id": "f9ea48e7",
   "metadata": {},
   "source": [
    "$σ_x = \\sqrt {D(X)} = \\sqrt14.41 = 3.80$"
   ]
  },
  {
   "cell_type": "code",
   "execution_count": 193,
   "id": "5e985f83",
   "metadata": {},
   "outputs": [
    {
     "data": {
      "text/plain": [
       "3.7960505792204615"
      ]
     },
     "execution_count": 193,
     "metadata": {},
     "output_type": "execute_result"
    }
   ],
   "source": [
    "14.41 ** 0.5"
   ]
  },
  {
   "cell_type": "markdown",
   "id": "71c784e8",
   "metadata": {},
   "source": [
    "$M(Y^2) = 20^2 * 0.1 + 10^2 * 0.3 + 2^2 * 0.2 + (-2^2 * 0.3) + (-8^2 * 0.1) = 78.4$ "
   ]
  },
  {
   "cell_type": "code",
   "execution_count": 196,
   "id": "0e034bee",
   "metadata": {},
   "outputs": [
    {
     "data": {
      "text/plain": [
       "78.4"
      ]
     },
     "execution_count": 196,
     "metadata": {},
     "output_type": "execute_result"
    }
   ],
   "source": [
    "20 ** 2 * 0.1 + 10 ** 2 * 0.3 + 2 ** 2 * 0.2 + ((-2) ** 2 * 0.3) + ((-8) ** 2 *0.1)"
   ]
  },
  {
   "cell_type": "markdown",
   "id": "f8c6b742",
   "metadata": {},
   "source": [
    "$D(Y) = M(Y^2) - (M(Y))^2 = 78.4 - 16 = $"
   ]
  },
  {
   "cell_type": "code",
   "execution_count": 197,
   "id": "ec3df16f",
   "metadata": {},
   "outputs": [
    {
     "data": {
      "text/plain": [
       "62.400000000000006"
      ]
     },
     "execution_count": 197,
     "metadata": {},
     "output_type": "execute_result"
    }
   ],
   "source": [
    "78.4 - 4 ** 2"
   ]
  },
  {
   "cell_type": "markdown",
   "id": "2390d358",
   "metadata": {},
   "source": [
    "$σ_y = \\sqrt {D(Y)} = \\sqrt62.4 = 7.90$"
   ]
  },
  {
   "cell_type": "code",
   "execution_count": 198,
   "id": "911f8eed",
   "metadata": {},
   "outputs": [
    {
     "data": {
      "text/plain": [
       "7.899367063252599"
      ]
     },
     "execution_count": 198,
     "metadata": {},
     "output_type": "execute_result"
    }
   ],
   "source": [
    "62.4 ** 0.5"
   ]
  },
  {
   "cell_type": "markdown",
   "id": "460fd20f",
   "metadata": {},
   "source": [
    "**Оскільки значення середнього квадратичного відхилення по акції Х ($σ_x = 3.80$) є меншим за значення середнього квадратичного відхилення по акції Y ($σ_y = 7.90$), то ступінь ризику акцій X є меншим.**"
   ]
  },
  {
   "cell_type": "markdown",
   "id": "12deb9df",
   "metadata": {},
   "source": [
    "*2.3 проаналізувати наявність зв’язку між акціями X та Y за допомогою коефіцієнтів коваріації та кореляції*"
   ]
  },
  {
   "cell_type": "markdown",
   "id": "51e64fce",
   "metadata": {},
   "source": [
    "M(XY) = 20 * 10 * 0.01 + 20 * 5 * 0.03 + 20 * 2 * 0.02 + 20 * 1 * 0.03 + (20 * (-5) * 0.01) + 10 * 10 * 0.03 + 10 * 5 * 0.09 + 10 * 2 * 0.06 + 10 * 1 * 0.09 + (10 * (-5) * 0.03) + 2 * 10 * 0.02 + 2 * 5 * 0.06 + 2 * 2 * 0.04 + 2 * 1 * 0.06 + (2 * (-5) * 0.02) + ((-2) * 10 * 0.03) + ((-2) * 5 * 0.09) + ((-2) * 2 * 0.06) + ((-2) * 1 * 0.09) + ((-2) * (-5) * 0.03) + ((-8) * 10 * 0.01) + ((-8) * 5  * 0.03) + ((-8) * 2 * 0.02) + ((-8) * 1 * 0.03) + ((-8) * (-5) * 0.01) = 10.80"
   ]
  },
  {
   "cell_type": "code",
   "execution_count": 200,
   "id": "0cfd7942",
   "metadata": {},
   "outputs": [
    {
     "data": {
      "text/plain": [
       "10.799999999999999"
      ]
     },
     "execution_count": 200,
     "metadata": {},
     "output_type": "execute_result"
    }
   ],
   "source": [
    "20 * 10 * 0.01 + 20 * 5 * 0.03 + 20 * 2 * 0.02 + 20 * 1 * 0.03 + (20 * (-5) * 0.01) + 10 * 10 * 0.03 + 10 * 5 * 0.09 + 10 * 2 * 0.06 + 10 * 1 * 0.09 + (10 * (-5) * 0.03) + 2 * 10 * 0.02 + 2 * 5 * 0.06 + 2 * 2 * 0.04 + 2 * 1 * 0.06 + (2 * (-5) * 0.02) + ((-2) * 10 * 0.03) + ((-2) * 5 * 0.09) + ((-2) * 2 * 0.06) + ((-2) * 1 * 0.09) + ((-2) * (-5) * 0.03) + ((-8) * 10 * 0.01) + ((-8) * 5  * 0.03) + ((-8) * 2 * 0.02) + ((-8) * 1 * 0.03) + ((-8) * (-5) * 0.01)"
   ]
  },
  {
   "cell_type": "markdown",
   "id": "fa9a8e36",
   "metadata": {},
   "source": [
    "cov(X,Y) = M(XY) - M(X)M(Y) = 10.8 - 2.7 * 4 = 0"
   ]
  },
  {
   "cell_type": "code",
   "execution_count": 201,
   "id": "5cc47463",
   "metadata": {},
   "outputs": [
    {
     "data": {
      "text/plain": [
       "0.0"
      ]
     },
     "execution_count": 201,
     "metadata": {},
     "output_type": "execute_result"
    }
   ],
   "source": [
    "10.8 - 2.7 * 4"
   ]
  },
  {
   "cell_type": "markdown",
   "id": "b6f16747",
   "metadata": {},
   "source": [
    "$r_{xy} = cov(X,Y) / σ_x σ_y$ = 0 / (3.8 * 7.90) = 0"
   ]
  },
  {
   "cell_type": "markdown",
   "id": "2cdf952a",
   "metadata": {},
   "source": [
    "**Оскільки коваріація рівна нулю, то величини X та Y будуть некорельованими, тобто не залежними одна від одної.**"
   ]
  },
  {
   "cell_type": "code",
   "execution_count": null,
   "id": "9b431dcb",
   "metadata": {},
   "outputs": [],
   "source": []
  }
 ],
 "metadata": {
  "kernelspec": {
   "display_name": "Python 3 (ipykernel)",
   "language": "python",
   "name": "python3"
  },
  "language_info": {
   "codemirror_mode": {
    "name": "ipython",
    "version": 3
   },
   "file_extension": ".py",
   "mimetype": "text/x-python",
   "name": "python",
   "nbconvert_exporter": "python",
   "pygments_lexer": "ipython3",
   "version": "3.9.13"
  }
 },
 "nbformat": 4,
 "nbformat_minor": 5
}
